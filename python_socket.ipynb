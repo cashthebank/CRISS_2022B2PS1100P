{
  "nbformat": 4,
  "nbformat_minor": 0,
  "metadata": {
    "colab": {
      "provenance": [],
      "authorship_tag": "ABX9TyMOkHvuvvZl//ZTF7jplA+a",
      "include_colab_link": true
    },
    "kernelspec": {
      "name": "python3",
      "display_name": "Python 3"
    },
    "language_info": {
      "name": "python"
    }
  },
  "cells": [
    {
      "cell_type": "markdown",
      "metadata": {
        "id": "view-in-github",
        "colab_type": "text"
      },
      "source": [
        "<a href=\"https://colab.research.google.com/github/cashthebank/CRISS_2022B2PS1100P/blob/main/python_socket.ipynb\" target=\"_parent\"><img src=\"https://colab.research.google.com/assets/colab-badge.svg\" alt=\"Open In Colab\"/></a>"
      ]
    },
    {
      "cell_type": "code",
      "execution_count": null,
      "metadata": {
        "id": "cXcTSrTF9uzh"
      },
      "outputs": [],
      "source": [
        "import socket\n",
        "\n",
        "serverIP= \"172.17.29.11\"\n",
        "serverPORT=6000\n",
        "serveraddress=(serverIP,serverPORT)\n",
        "buffersize=1024\n",
        "\n",
        "UDPclientSocket=socket.socket(family=socket.AF_INET,type=socket)\n",
        "\n",
        "message='my name is Aarya ID 2022B2PS1100P'\n",
        "\n",
        "bytetosend=str.encode(message)\n",
        "UDPclientSocket.sendto(bytetosend,serveraddress)\n",
        "\n"
      ]
    }
  ]
}